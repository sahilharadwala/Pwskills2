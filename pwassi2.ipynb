{
 "cells": [
  {
   "cell_type": "code",
   "execution_count": 25,
   "id": "d8c1da45-2a2a-447d-a4a0-b16a10073127",
   "metadata": {},
   "outputs": [
    {
     "data": {
      "text/plain": [
       "[1, 3, 5, 7, 9, 11, 13, 15, 17, 19, 21, 23]"
      ]
     },
     "execution_count": 25,
     "metadata": {},
     "output_type": "execute_result"
    }
   ],
   "source": [
    "#Q1. Which keyword is used to create a function? Create a function to return a list of odd numbers in the,range of 1 to 25.\n",
    "\n",
    "# def keyword is used to create a function\n",
    "\n",
    "def odd():\n",
    "    l1=[]\n",
    "    for i in range(1,25):\n",
    "        if i%2!=0:\n",
    "            l1.append(i)\n",
    "    return l1\n",
    "odd()\n",
    "    "
   ]
  },
  {
   "cell_type": "code",
   "execution_count": 61,
   "id": "cd202924-e7d6-47e0-b4dd-99896cfa30ef",
   "metadata": {},
   "outputs": [
    {
     "name": "stdout",
     "output_type": "stream",
     "text": [
      "(12, 2356, 1) sahil pwskills\n",
      "(12, 2356, 1) sahil pwskills\n",
      "(12, 2356, 1) sahil pwskills\n",
      "('name', 'sahil') sajil\n",
      "('surname', 'haradwala') sajil\n"
     ]
    }
   ],
   "source": [
    "# Q2. Why *args and **kwargs is used in some functions? Create a function each for *args and kwargs to demonstrate their use.\n",
    "#We use *args and **kwargs as an argument when we are unsure about the number of arguments to pass in the functions.\n",
    "\n",
    "def d(*args):\n",
    "    for i in args:\n",
    "     print(args,\"sahil pwskills\")\n",
    "d(12,2356,1)\n",
    "\n",
    "def d2(**kwargs):\n",
    "    for key,value in kwargs.items():\n",
    "     print((key,value),\"sajil\")\n",
    "d2(name=\"sahil\",surname='haradwala')"
   ]
  },
  {
   "cell_type": "code",
   "execution_count": 69,
   "id": "de18f453-c1bd-4321-9381-ae0309e72d5e",
   "metadata": {},
   "outputs": [
    {
     "data": {
      "text/plain": [
       "10"
      ]
     },
     "execution_count": 69,
     "metadata": {},
     "output_type": "execute_result"
    }
   ],
   "source": [
    "#Q3.  What is an iterator in python? Name the method used to initialise the iterator object and the methodused for iteration. Use these methods to print the first five elements of the given list [2, 4, 6, 8, 10, 12, 14,16, 18, 20].\n",
    "# an iterator is an object used to iterate across iterable objects such as lists, tuples, dicts, and sets. The iter() method is used to initialize the iterator object. Iteration is accomplished through the usage of the next() method.\n",
    "l1= [2, 4, 6, 8, 10, 12, 14,16, 18, 20]\n",
    "t=iter(l1)\n",
    "next(t)\n",
    "next(t)\n",
    "next(t)\n",
    "next(t)\n",
    "next(t)"
   ]
  },
  {
   "cell_type": "code",
   "execution_count": 88,
   "id": "b890b8ec-43b7-4897-9a5d-6df9320b16b6",
   "metadata": {},
   "outputs": [
    {
     "data": {
      "text/plain": [
       "512"
      ]
     },
     "execution_count": 88,
     "metadata": {},
     "output_type": "execute_result"
    }
   ],
   "source": [
    "#Q4.  What is a generator function in python? Why yield keyword is used? Give an example of a generatorfunction\n",
    "#A generator in Python is a particular type of function that produces an iterable sequence of values. Generator functions use the yield keyword instead of the return keyword and can efficiently process large datasets with minimal memory usage.\n",
    "l1= [2, 4, 6, 8]\n",
    "def gens():\n",
    "    for i in l1:\n",
    "        yield i**3\n",
    "s=gens()\n",
    "next(s)\n",
    "next(s)\n",
    "next(s)\n",
    "next(s)"
   ]
  },
  {
   "cell_type": "code",
   "execution_count": 33,
   "id": "d208de45-91cb-4687-ab04-e6f5a1e49e29",
   "metadata": {},
   "outputs": [
    {
     "name": "stdout",
     "output_type": "stream",
     "text": [
      "2\n",
      "3\n",
      "5\n",
      "7\n",
      "11\n",
      "13\n",
      "17\n",
      "19\n",
      "23\n",
      "29\n",
      "31\n",
      "37\n",
      "41\n",
      "43\n",
      "47\n",
      "53\n",
      "59\n",
      "61\n",
      "67\n",
      "71\n"
     ]
    }
   ],
   "source": [
    "#Q5. Create a generator function for prime numbers less than 1000. Use the next() method to print thefirst 20 prime numbers.\n",
    "def primes():\n",
    "    yield 2\n",
    "    primes_list = [2]\n",
    "    for i in range(3, 1000):\n",
    "        is_prime = True\n",
    "        for prime in primes_list:\n",
    "            if i % prime == 0:\n",
    "                is_prime = False\n",
    "                break\n",
    "        if is_prime:\n",
    "            primes_list.append(i)\n",
    "            yield i\n",
    "\n",
    "prime_gen = primes()\n",
    "for i in range(20):\n",
    "    print(next(prime_gen))"
   ]
  },
  {
   "cell_type": "code",
   "execution_count": 45,
   "id": "1e2def4a-3365-4a70-ba88-a0d93b1604f6",
   "metadata": {},
   "outputs": [
    {
     "name": "stdout",
     "output_type": "stream",
     "text": [
      "1\n",
      "2\n",
      "3\n",
      "5\n",
      "8\n",
      "13\n",
      "21\n",
      "34\n",
      "55\n",
      "89\n"
     ]
    }
   ],
   "source": [
    "##Q6. Write a python program to print the first 10 Fibonacci numbers using a while loop.\n",
    "def fibb(n):\n",
    "    a=0\n",
    "    b=1\n",
    "    nextnumber=b\n",
    "    count=1\n",
    "    while count<=n:\n",
    "        print(nextnumber)\n",
    "        count+=1\n",
    "        a,b=b,nextnumber\n",
    "        nextnumber=a+b\n",
    "s=fibb(10)\n"
   ]
  },
  {
   "cell_type": "code",
   "execution_count": null,
   "id": "d26001ef-0793-419b-8b17-ae3bfef03667",
   "metadata": {},
   "outputs": [],
   "source": [
    "##Q7. Write a List Comprehension to iterate through the given string: ‘pwskills’.Expected output: ['p', 'w', 's', 'k', 'i', 'l', 'l', 's'] \n",
    "\n",
    "l1=\"pwskills\"\n",
    "d=list(map(lambda i : i.lower() , l1))\n",
    "d"
   ]
  },
  {
   "cell_type": "code",
   "execution_count": null,
   "id": "3eda4988-acea-4c38-bc2e-79b18d21bb27",
   "metadata": {},
   "outputs": [],
   "source": [
    "#Q8. Write a python program to check whether a given number is Palindrome or not using a while loop.\n",
    "num = int(input(\"Enter a value:\"))  \n",
    "temp = num  \n",
    "rev = 0  \n",
    "while(num > 0):  \n",
    "    dig = num % 10  \n",
    "    revrev = rev * 10 + dig  \n",
    "    numnum = num // 10  \n",
    "if(temp == rev):  \n",
    "    print(\"This value is a palindrome number!\")  \n",
    "else:  \n",
    "    print(\"This value is not a palindrome number!\")  "
   ]
  },
  {
   "cell_type": "code",
   "execution_count": null,
   "id": "93e0524c-420a-4b26-8f7b-7a2bf50b0e43",
   "metadata": {},
   "outputs": [],
   "source": [
    "###Q9. Write a code to print odd numbers from 1 to 100 using list comprehension.\n",
    "odd_numbers = [num for num in range(1, 101) if num % 2 != 0]\n",
    "print(odd_numbers)\n"
   ]
  }
 ],
 "metadata": {
  "kernelspec": {
   "display_name": "Python 3 (ipykernel)",
   "language": "python",
   "name": "python3"
  },
  "language_info": {
   "codemirror_mode": {
    "name": "ipython",
    "version": 3
   },
   "file_extension": ".py",
   "mimetype": "text/x-python",
   "name": "python",
   "nbconvert_exporter": "python",
   "pygments_lexer": "ipython3",
   "version": "3.12.7"
  }
 },
 "nbformat": 4,
 "nbformat_minor": 5
}
